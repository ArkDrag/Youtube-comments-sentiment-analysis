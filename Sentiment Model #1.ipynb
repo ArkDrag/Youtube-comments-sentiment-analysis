{
 "cells": [
  {
   "cell_type": "code",
   "execution_count": 1,
   "id": "88664c22",
   "metadata": {},
   "outputs": [],
   "source": [
    "import pandas as pd\n",
    "import numpy as np\n",
    "import html\n",
    "import nltk\n",
    "import english_words\n",
    "from nltk.corpus import words\n",
    "import matplotlib.pyplot as plt\n",
    "import demoji\n",
    "from textblob import TextBlob\n",
    "from sklearn.feature_extraction.text import TfidfVectorizer\n",
    "from sklearn.naive_bayes import MultinomialNB"
   ]
  },
  {
   "cell_type": "code",
   "execution_count": 2,
   "id": "1022172a",
   "metadata": {},
   "outputs": [],
   "source": [
    "dane=pd.read_csv(\"George.csv\")\n",
    "dane=dane.rename(columns={\"0\": \"Title\",'1':\"Author\", \"2\":\"Comment\"})\n",
    "dane=dane.drop(columns=\"Unnamed: 0\")\n",
    "\n",
    "def punc_clean(text): # removing special characters\n",
    "    import string as st\n",
    "    a=[w for w in text if w not in st.punctuation]\n",
    "    return ''.join(a)\n",
    "\n",
    "\n",
    "        \n",
    "\n",
    "def remove_stopword(text): # removing words which do not affect to sentiment like 'the'\n",
    "    stopword=nltk.corpus.stopwords.words('english')\n",
    "    stopword.append(\"\")\n",
    "    stopword.remove('not') #removing 'not'\n",
    "    a=[w for w in nltk.word_tokenize(text) if w not in stopword]\n",
    "    return ' '.join(a)\n",
    "\n",
    "lista2=[]\n",
    "for sentence in dane.Comment: # removing html charts like &#39; instead of \" ' \".\n",
    "    sentence=html.unescape(sentence)\n",
    "    lista2.append(sentence)\n",
    "dane[\"review\"]=lista2\n",
    "dane['review'] = dane['review'].apply(remove_stopword)\n",
    "dane['review'] = dane['review'].apply(punc_clean)\n",
    "dane.review=dane.review.str.lower() # low case \n",
    "lista4=[]\n",
    "for i in dane.review:\n",
    "    lista4.append(demoji.replace(i,\"\")) # removing emojis\n",
    "dane['review']=lista4\n",
    "data=pd.read_csv('train.tsv', sep='\\t') # database for training\n",
    "data[\"Sentiment\"]=data[\"Sentiment\"]+1 # scale 1-5\n",
    "vectorizer = TfidfVectorizer(ngram_range=(1,2),min_df=1) # ngram_range=(1,2) one or two words next to each other\n",
    "X_train= vectorizer.fit_transform(data['Phrase'])\n",
    "y_train=data[\"Sentiment\"]\n",
    "X_test= vectorizer.transform(dane['review'])\n",
    "classifier = MultinomialNB() # using of Naive Bayes classifier\n",
    "classifier.fit(X=X_train, y=y_train)\n",
    "\n",
    "predicted= classifier.predict(X_test)\n",
    "dane[\"wynik\"]=predicted\n"
   ]
  },
  {
   "cell_type": "code",
   "execution_count": 4,
   "id": "7bb44fb5",
   "metadata": {},
   "outputs": [],
   "source": [
    "dane_testowe=dane[dane.wynik<3] # amount of potential haters and their names\n",
    "pot_haterzy=dane_testowe.Author.value_counts()\n",
    "haterzy=pot_haterzy[pot_haterzy.values>3]"
   ]
  },
  {
   "cell_type": "code",
   "execution_count": 5,
   "id": "fe5ff2dc",
   "metadata": {},
   "outputs": [],
   "source": [
    "# amount of spamers\n",
    "dane_testowe1=dane.set_index(\"Author\") \n",
    "dane_testowe2=dane_testowe1.Comment.value_counts()\n",
    "pot_spam=dane_testowe2[dane_testowe2.values>15]\n",
    "spam_list=pot_spam.index.to_list()\n",
    "listaa=[]\n",
    "for i in range(len(spam_list)):\n",
    "    listaa.append(dane_testowe1[dane_testowe1.Comment==spam_list[i]])\n",
    "user_spam=[] # list of spamers\n",
    "for j in range(len(listaa)):\n",
    "    user_spam.append(listaa[j].index[0])\n"
   ]
  },
  {
   "cell_type": "code",
   "execution_count": null,
   "id": "ecc61c34",
   "metadata": {},
   "outputs": [],
   "source": []
  },
  {
   "cell_type": "code",
   "execution_count": null,
   "id": "5631a331",
   "metadata": {},
   "outputs": [],
   "source": []
  },
  {
   "cell_type": "code",
   "execution_count": null,
   "id": "ee632303",
   "metadata": {},
   "outputs": [],
   "source": []
  },
  {
   "cell_type": "markdown",
   "id": "59cccd44",
   "metadata": {},
   "source": [
    "Testing of model #1"
   ]
  },
  {
   "cell_type": "code",
   "execution_count": 6,
   "id": "7114a802",
   "metadata": {},
   "outputs": [],
   "source": [
    "dane2=pd.read_csv(\"George-31.10.csv\")\n",
    "dane2=dane2.rename(columns={\"0\": \"Title\",'1':\"Author\", \"2\":\"Comment\"})\n",
    "dane2=dane2.drop(columns=\"Unnamed: 0\")\n",
    "dane2=dane2.iloc[:78]\n",
    "def punc_clean(text): \n",
    "    import string as st\n",
    "    a=[w for w in text if w not in st.punctuation]\n",
    "    return ''.join(a)\n",
    "\n",
    "\n",
    "        \n",
    "\n",
    "def remove_stopword(text): \n",
    "    stopword=nltk.corpus.stopwords.words('english')\n",
    "    stopword.append(\"\")\n",
    "    stopword.remove('not')\n",
    "    a=[w for w in nltk.word_tokenize(text) if w not in stopword]\n",
    "    return ' '.join(a)\n",
    "\n",
    "lista5=[]\n",
    "for sentence3 in dane2.Comment:\n",
    "    sentence3=html.unescape(sentence3)\n",
    "    lista5.append(sentence3)\n",
    "dane2[\"review\"]=lista5\n",
    "dane2['review'] = dane2['review'].apply(remove_stopword)\n",
    "dane2['review'] = dane2['review'].apply(punc_clean)\n",
    "dane2.review=dane2.review.str.lower()\n",
    "lista6=[]\n",
    "for i in dane2.review:\n",
    "    lista6.append(demoji.replace(i,\"\"))\n",
    "dane2['review']=lista6"
   ]
  },
  {
   "cell_type": "code",
   "execution_count": 9,
   "id": "112eede1",
   "metadata": {},
   "outputs": [],
   "source": [
    "tf_test2=vectorizer.transform(dane2.review)\n",
    "predicted2= classifier.predict(tf_test2)\n",
    "dane2[\"score\"]=predicted2"
   ]
  },
  {
   "cell_type": "code",
   "execution_count": 10,
   "id": "da402994",
   "metadata": {},
   "outputs": [
    {
     "data": {
      "text/html": [
       "<div>\n",
       "<style scoped>\n",
       "    .dataframe tbody tr th:only-of-type {\n",
       "        vertical-align: middle;\n",
       "    }\n",
       "\n",
       "    .dataframe tbody tr th {\n",
       "        vertical-align: top;\n",
       "    }\n",
       "\n",
       "    .dataframe thead th {\n",
       "        text-align: right;\n",
       "    }\n",
       "</style>\n",
       "<table border=\"1\" class=\"dataframe\">\n",
       "  <thead>\n",
       "    <tr style=\"text-align: right;\">\n",
       "      <th></th>\n",
       "      <th>Title</th>\n",
       "      <th>Author</th>\n",
       "      <th>Comment</th>\n",
       "      <th>review</th>\n",
       "      <th>wynik</th>\n",
       "      <th>score</th>\n",
       "    </tr>\n",
       "  </thead>\n",
       "  <tbody>\n",
       "    <tr>\n",
       "      <th>2</th>\n",
       "      <td>Whitney Webb (Global Elite Deep Dive...What Is...</td>\n",
       "      <td>kyle petan</td>\n",
       "      <td>Nice</td>\n",
       "      <td>nice</td>\n",
       "      <td>4</td>\n",
       "      <td>4</td>\n",
       "    </tr>\n",
       "    <tr>\n",
       "      <th>18</th>\n",
       "      <td>Whitney Webb (Global Elite Deep Dive...What Is...</td>\n",
       "      <td>A</td>\n",
       "      <td>Wow you have Witney on great</td>\n",
       "      <td>wow witney great</td>\n",
       "      <td>4</td>\n",
       "      <td>4</td>\n",
       "    </tr>\n",
       "  </tbody>\n",
       "</table>\n",
       "</div>"
      ],
      "text/plain": [
       "                                                Title      Author  \\\n",
       "2   Whitney Webb (Global Elite Deep Dive...What Is...  kyle petan   \n",
       "18  Whitney Webb (Global Elite Deep Dive...What Is...           A   \n",
       "\n",
       "                         Comment            review  wynik  score  \n",
       "2                           Nice              nice      4      4  \n",
       "18  Wow you have Witney on great  wow witney great      4      4  "
      ]
     },
     "execution_count": 10,
     "metadata": {},
     "output_type": "execute_result"
    }
   ],
   "source": [
    "dane2[dane2.score==4]"
   ]
  },
  {
   "cell_type": "code",
   "execution_count": 11,
   "id": "5de0738a",
   "metadata": {},
   "outputs": [
    {
     "data": {
      "text/plain": [
       "3    76\n",
       "4     2\n",
       "Name: score, dtype: int64"
      ]
     },
     "execution_count": 11,
     "metadata": {},
     "output_type": "execute_result"
    }
   ],
   "source": [
    "dane2.score.value_counts()"
   ]
  },
  {
   "cell_type": "code",
   "execution_count": null,
   "id": "fe6789f2",
   "metadata": {},
   "outputs": [],
   "source": []
  },
  {
   "cell_type": "code",
   "execution_count": null,
   "id": "70c05665",
   "metadata": {},
   "outputs": [],
   "source": []
  },
  {
   "cell_type": "code",
   "execution_count": null,
   "id": "83913fc5",
   "metadata": {},
   "outputs": [],
   "source": []
  },
  {
   "cell_type": "code",
   "execution_count": null,
   "id": "79020101",
   "metadata": {},
   "outputs": [],
   "source": []
  }
 ],
 "metadata": {
  "kernelspec": {
   "display_name": "Python 3 (ipykernel)",
   "language": "python",
   "name": "python3"
  },
  "language_info": {
   "codemirror_mode": {
    "name": "ipython",
    "version": 3
   },
   "file_extension": ".py",
   "mimetype": "text/x-python",
   "name": "python",
   "nbconvert_exporter": "python",
   "pygments_lexer": "ipython3",
   "version": "3.8.8"
  }
 },
 "nbformat": 4,
 "nbformat_minor": 5
}
