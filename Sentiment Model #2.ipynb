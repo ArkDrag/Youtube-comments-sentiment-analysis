{
 "cells": [
  {
   "cell_type": "code",
   "execution_count": 1,
   "id": "30a051ee",
   "metadata": {},
   "outputs": [],
   "source": [
    "import pandas as pd\n",
    "import numpy as np\n",
    "import html\n",
    "import nltk\n",
    "import english_words\n",
    "from nltk.corpus import words\n",
    "import matplotlib.pyplot as plt\n",
    "import demoji\n",
    "from textblob import TextBlob\n",
    "from sklearn.model_selection import train_test_split\n",
    "from sklearn.feature_extraction.text import TfidfVectorizer\n",
    "from sklearn.linear_model import LogisticRegression\n",
    "from sklearn import metrics\n",
    "import seaborn as sns\n",
    " "
   ]
  },
  {
   "cell_type": "code",
   "execution_count": 18,
   "id": "952ec5a0",
   "metadata": {},
   "outputs": [],
   "source": [
    "dane=pd.read_csv(\"George.csv\")\n",
    "dane=dane.rename(columns={\"0\": \"Title\",'1':\"Author\", \"2\":\"Comment\"})\n",
    "dane=dane.drop(columns=\"Unnamed: 0\")"
   ]
  },
  {
   "cell_type": "code",
   "execution_count": 19,
   "id": "3603b54e",
   "metadata": {},
   "outputs": [],
   "source": [
    "lista4=[]\n",
    "for i in dane.Comment:\n",
    "    lista4.append(demoji.replace(i,\"\"))\n",
    "dane['review']=lista4\n",
    "dane['polarity']=dane['review'].apply(lambda x: TextBlob(x).sentiment.polarity) # polarity of words"
   ]
  },
  {
   "cell_type": "code",
   "execution_count": 20,
   "id": "dd82e687",
   "metadata": {},
   "outputs": [],
   "source": [
    "lista=[]\n",
    "for i in dane.polarity:\n",
    "    \n",
    "    if i>0:\n",
    "        lista.append(1)\n",
    "    elif i <0:\n",
    "        lista.append(-1)\n",
    "    else:\n",
    "        lista.append(0)\n",
    "dane[\"pol_cat\"]=lista\n",
    "def punc_clean(text): \n",
    "    import string as st\n",
    "    a=[w for w in text if w not in st.punctuation]\n",
    "    return ''.join(a)\n",
    "\n",
    "\n",
    "        \n",
    "\n",
    "def remove_stopword(text): \n",
    "    stopword=nltk.corpus.stopwords.words('english')\n",
    "    stopword.append(\"\")\n",
    "    stopword.remove('not') \n",
    "    a=[w for w in nltk.word_tokenize(text) if w not in stopword]\n",
    "    return ' '.join(a)\n",
    "\n",
    "lista2=[]\n",
    "for sentence in dane.Comment:\n",
    "    sentence=html.unescape(sentence)\n",
    "    lista2.append(sentence)\n",
    "dane[\"review\"]=lista2\n",
    "dane['review'] = dane['review'].apply(remove_stopword)\n",
    "dane['review'] = dane['review'].apply(punc_clean)\n",
    "dane.review=dane.review.str.lower()\n",
    "lista4=[]\n",
    "for i in dane.review:\n",
    "    lista4.append(demoji.replace(i,\"\"))\n",
    "dane['review']=lista4"
   ]
  },
  {
   "cell_type": "code",
   "execution_count": 21,
   "id": "38238fed",
   "metadata": {},
   "outputs": [],
   "source": [
    "X_train, X_test, y_train, y_test= train_test_split(dane.review, dane.pol_cat, test_size=0.2, random_state=324)"
   ]
  },
  {
   "cell_type": "code",
   "execution_count": 22,
   "id": "ad2fceb6",
   "metadata": {},
   "outputs": [],
   "source": [
    "vectorizer = TfidfVectorizer(ngram_range=(1,2),min_df=1)\n",
    "tf_train =vectorizer.fit_transform(X_train)\n",
    "tf_test=vectorizer.transform(X_test)"
   ]
  },
  {
   "cell_type": "code",
   "execution_count": 23,
   "id": "aacc8e54",
   "metadata": {},
   "outputs": [
    {
     "data": {
      "text/plain": [
       "LogisticRegression(max_iter=5000)"
      ]
     },
     "execution_count": 23,
     "metadata": {},
     "output_type": "execute_result"
    }
   ],
   "source": [
    "lr =LogisticRegression(max_iter=5000)\n",
    "\n",
    "lr.fit(tf_train,y_train)"
   ]
  },
  {
   "cell_type": "code",
   "execution_count": 24,
   "id": "62adfaa3",
   "metadata": {},
   "outputs": [
    {
     "data": {
      "text/plain": [
       "0.9383127994524298"
      ]
     },
     "execution_count": 24,
     "metadata": {},
     "output_type": "execute_result"
    }
   ],
   "source": [
    "lr.score(tf_train,y_train)"
   ]
  },
  {
   "cell_type": "code",
   "execution_count": 25,
   "id": "062e02d9",
   "metadata": {},
   "outputs": [
    {
     "data": {
      "text/plain": [
       "0.7542778918548939"
      ]
     },
     "execution_count": 25,
     "metadata": {},
     "output_type": "execute_result"
    }
   ],
   "source": [
    "lr.score(tf_test,y_test)"
   ]
  },
  {
   "cell_type": "code",
   "execution_count": 26,
   "id": "3cf22752",
   "metadata": {},
   "outputs": [],
   "source": [
    "expected=y_test\n",
    "predicted=lr.predict(tf_test)"
   ]
  },
  {
   "cell_type": "code",
   "execution_count": 27,
   "id": "944b4ce6",
   "metadata": {},
   "outputs": [
    {
     "data": {
      "image/png": "[encoded data removed]",
      "text/plain": [
       "<Figure size 432x288 with 2 Axes>"
      ]
     },
     "metadata": {
      "needs_background": "light"
     },
     "output_type": "display_data"
    }
   ],
   "source": [
    "cf=metrics.confusion_matrix(y_test,lr.predict(tf_test))\n",
    "\n",
    "ax= plt.subplot()\n",
    "sns.heatmap(cf, annot=True, fmt='g', ax=ax);  #annot=counts appear in squares, ftm='g' removing hexadecimal system\n",
    "\n",
    "\n",
    "ax.set_xlabel('Predicted labels');ax.set_ylabel('True labels'); \n",
    "ax.set_title('Confusion Matrix'); \n",
    "ax.xaxis.set_ticklabels([-1,0,1]); ax.yaxis.set_ticklabels([-1,0,1]);"
   ]
  },
  {
   "cell_type": "code",
   "execution_count": 28,
   "id": "658b7355",
   "metadata": {},
   "outputs": [
    {
     "name": "stdout",
     "output_type": "stream",
     "text": [
      "              precision    recall  f1-score   support\n",
      "\n",
      "          -1       0.88      0.20      0.32       471\n",
      "           0       0.85      0.64      0.73       813\n",
      "           1       0.72      0.97      0.83      1638\n",
      "\n",
      "    accuracy                           0.75      2922\n",
      "   macro avg       0.82      0.60      0.63      2922\n",
      "weighted avg       0.78      0.75      0.72      2922\n",
      "\n"
     ]
    }
   ],
   "source": [
    "print(metrics.classification_report(expected,predicted))"
   ]
  },
  {
   "cell_type": "markdown",
   "id": "9f10ac4c",
   "metadata": {},
   "source": [
    "Testing of model #2\n"
   ]
  },
  {
   "cell_type": "code",
   "execution_count": 29,
   "id": "f9a236bc",
   "metadata": {},
   "outputs": [],
   "source": [
    "dane2=pd.read_csv(\"George-31.10.csv\")\n",
    "dane2=dane2.rename(columns={\"0\": \"Title\",'1':\"Author\", \"2\":\"Comment\"})\n",
    "dane2=dane2.drop(columns=\"Unnamed: 0\")\n",
    "dane2=dane2.iloc[:78]\n",
    "def punc_clean(text): \n",
    "    import string as st\n",
    "    a=[w for w in text if w not in st.punctuation]\n",
    "    return ''.join(a)\n",
    "\n",
    "\n",
    "        \n",
    "\n",
    "def remove_stopword(text): \n",
    "    stopword=nltk.corpus.stopwords.words('english')\n",
    "    stopword.append(\"\")\n",
    "    stopword.remove('not') \n",
    "    a=[w for w in nltk.word_tokenize(text) if w not in stopword]\n",
    "    return ' '.join(a)\n",
    "\n",
    "lista5=[]\n",
    "for sentence3 in dane2.Comment:\n",
    "    sentence3=html.unescape(sentence3)\n",
    "    lista5.append(sentence3)\n",
    "dane2[\"review\"]=lista5\n",
    "dane2['review'] = dane2['review'].apply(remove_stopword)\n",
    "dane2['review'] = dane2['review'].apply(punc_clean)\n",
    "dane2.review=dane2.review.str.lower()\n",
    "lista6=[]\n",
    "for i in dane2.review:\n",
    "    lista6.append(demoji.replace(i,\"\"))\n",
    "dane2['review']=lista6"
   ]
  },
  {
   "cell_type": "code",
   "execution_count": 30,
   "id": "4387fcf7",
   "metadata": {},
   "outputs": [],
   "source": [
    "tf_test2=vectorizer.transform(dane2.review)"
   ]
  },
  {
   "cell_type": "code",
   "execution_count": 34,
   "id": "2f6e592f",
   "metadata": {},
   "outputs": [],
   "source": [
    "dane2['prediction']= lr.predict(tf_test2)"
   ]
  },
  {
   "cell_type": "code",
   "execution_count": 35,
   "id": "1c5f72a3",
   "metadata": {},
   "outputs": [],
   "source": [
    "pd.set_option(\"display.max_colwidth\", None)\n"
   ]
  },
  {
   "cell_type": "code",
   "execution_count": 36,
   "id": "39cec871",
   "metadata": {},
   "outputs": [
    {
     "data": {
      "text/plain": [
       " 1    45\n",
       " 0    31\n",
       "-1     2\n",
       "Name: prediction, dtype: int64"
      ]
     },
     "execution_count": 36,
     "metadata": {},
     "output_type": "execute_result"
    }
   ],
   "source": [
    "dane2.prediction.value_counts()"
   ]
  },
  {
   "cell_type": "code",
   "execution_count": null,
   "id": "2d32bb98",
   "metadata": {},
   "outputs": [],
   "source": []
  }
 ],
 "metadata": {
  "kernelspec": {
   "display_name": "Python 3 (ipykernel)",
   "language": "python",
   "name": "python3"
  },
  "language_info": {
   "codemirror_mode": {
    "name": "ipython",
    "version": 3
   },
   "file_extension": ".py",
   "mimetype": "text/x-python",
   "name": "python",
   "nbconvert_exporter": "python",
   "pygments_lexer": "ipython3",
   "version": "3.8.8"
  }
 },
 "nbformat": 4,
 "nbformat_minor": 5
}
